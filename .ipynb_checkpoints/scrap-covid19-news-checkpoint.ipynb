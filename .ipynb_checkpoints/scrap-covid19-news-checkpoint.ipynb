{
 "cells": [
  {
   "cell_type": "code",
   "execution_count": 1,
   "id": "commercial-class",
   "metadata": {},
   "outputs": [],
   "source": [
    "# Import\n",
    "from bs4 import BeautifulSoup\n",
    "import requests\n",
    "from pandas import DataFrame\n",
    "import csv\n",
    "import time\n",
    "import json"
   ]
  },
  {
   "cell_type": "markdown",
   "id": "unnecessary-thought",
   "metadata": {},
   "source": [
    "## Retrieving from 1st Source"
   ]
  },
  {
   "cell_type": "code",
   "execution_count": 3,
   "id": "spectacular-spanish",
   "metadata": {},
   "outputs": [],
   "source": [
    "url = 'https://covid19.go.id/p/berita?page=1'\n",
    "response = requests.get(url)"
   ]
  },
  {
   "cell_type": "code",
   "execution_count": 4,
   "id": "martial-plymouth",
   "metadata": {},
   "outputs": [],
   "source": [
    "soup = BeautifulSoup(response.content, \"html.parser\")"
   ]
  },
  {
   "cell_type": "code",
   "execution_count": 5,
   "id": "therapeutic-coordination",
   "metadata": {},
   "outputs": [],
   "source": [
    "title = soup.findAll(\"a\", {\"class\": \"text-color-dark\"})"
   ]
  },
  {
   "cell_type": "code",
   "execution_count": 6,
   "id": "directed-analysis",
   "metadata": {},
   "outputs": [
    {
     "data": {
      "text/plain": [
       "['https://covid19.go.id/p/berita/pelarangan-wna-masuk-ke-indonesia-diperpanjang',\n",
       " 'https://covid19.go.id/p/berita/pasien-sembuh-terus-meningkat-menjadi-711205-orang',\n",
       " 'https://covid19.go.id/p/berita/salah-jokowi-menggunakan-vaksin-buatan-eropa',\n",
       " 'https://covid19.go.id/p/berita/kriteria-penetapan-emergency-use-authorization-eua-untuk-vaksin-covid-19',\n",
       " 'https://covid19.go.id/p/berita/salah-rakyat-aceh-menolak-vaksin-covid19-karena-menurut-para-ulama-aceh-itu-haram',\n",
       " 'https://covid19.go.id/p/berita/kesembuhan-covid-19-bertambah-menjadi-703464-orang',\n",
       " 'https://covid19.go.id/p/berita/analisis-data-covid-19-indonesia-update-10-januari-2021',\n",
       " 'https://covid19.go.id/p/berita/monitoring-kepatuhan-protokol-kesehatan-di-34-provinsi-indonesia-update-10-januari-2021',\n",
       " 'https://covid19.go.id/p/berita/persetujuan-penggunaan-obat-dalam-kondisi-darurat',\n",
       " 'https://covid19.go.id/p/berita/fatwa-majelis-ulama-indonesia-nomor-02-tahun-2021',\n",
       " 'https://covid19.go.id/p/berita/salah-kemasan-vaksin-sinovac-ga-pake-ampulan-didalam-box-vaksin-sudah-ada-spuit-khusus-yg-sdh-ada-vaksin-nya',\n",
       " 'https://covid19.go.id/p/berita/disiplin-3m-hal-sederhana-yang-dapat-menyelamatkan-nyawa']"
      ]
     },
     "execution_count": 6,
     "metadata": {},
     "output_type": "execute_result"
    }
   ],
   "source": [
    "[item['href'] for item in title]"
   ]
  },
  {
   "cell_type": "code",
   "execution_count": 11,
   "id": "indonesian-stress",
   "metadata": {},
   "outputs": [
    {
     "name": "stdout",
     "output_type": "stream",
     "text": [
      "Page1\n",
      "Page2\n",
      "Page3\n",
      "Page4\n",
      "Page5\n",
      "Page6\n",
      "Page7\n",
      "Page8\n",
      "Page9\n",
      "Page10\n",
      "Page11\n",
      "Page12\n",
      "Page13\n",
      "Page14\n",
      "Page15\n",
      "Page16\n",
      "Page17\n",
      "Page18\n",
      "Page19\n",
      "Page20\n",
      "Page21\n",
      "Page22\n",
      "Page23\n",
      "Page24\n",
      "Page25\n",
      "Page26\n",
      "Page27\n",
      "Page28\n",
      "Page29\n",
      "Page30\n",
      "Page31\n",
      "Page32\n",
      "Page33\n",
      "Page34\n",
      "Page35\n",
      "Page36\n",
      "Page37\n",
      "Page38\n",
      "Page39\n",
      "Page40\n",
      "Page41\n",
      "Page42\n",
      "Page43\n",
      "Page44\n",
      "Page45\n",
      "Page46\n",
      "Page47\n",
      "Page48\n",
      "Page49\n",
      "Page50\n",
      "Page51\n",
      "Page52\n",
      "Page53\n",
      "Page54\n",
      "Page55\n",
      "Page56\n",
      "Page57\n",
      "Page58\n",
      "Page59\n",
      "Page60\n",
      "Page61\n",
      "Page62\n",
      "Page63\n",
      "Page64\n",
      "Page65\n",
      "Page66\n",
      "Page67\n",
      "Page68\n",
      "Page69\n",
      "Page70\n",
      "Page71\n",
      "Page72\n",
      "Page73\n",
      "Page74\n",
      "Page75\n",
      "Page76\n",
      "Page77\n",
      "Page78\n",
      "Page79\n",
      "Page80\n",
      "Page81\n",
      "Page82\n",
      "Page83\n",
      "Page84\n",
      "Page85\n",
      "Page86\n",
      "Page87\n",
      "Page88\n",
      "Page89\n",
      "Page90\n",
      "Page91\n",
      "Page92\n",
      "Page93\n",
      "Page94\n",
      "Page95\n",
      "Page96\n",
      "Page97\n",
      "Page98\n",
      "Page99\n",
      "Page100\n",
      "Page101\n",
      "Page102\n",
      "Page103\n",
      "Page104\n",
      "Page105\n",
      "Page106\n",
      "Page107\n",
      "Page108\n",
      "Page109\n",
      "Page110\n",
      "Page111\n",
      "Page112\n",
      "Page113\n",
      "Page114\n",
      "Page115\n",
      "Page116\n",
      "Page117\n",
      "Page118\n",
      "Page119\n",
      "Page120\n",
      "Page121\n",
      "Page122\n",
      "Page123\n",
      "Page124\n",
      "Page125\n",
      "Page126\n",
      "Page127\n",
      "Page128\n",
      "Page129\n",
      "Page130\n",
      "Page131\n",
      "Page132\n",
      "Page133\n",
      "Page134\n",
      "Page135\n",
      "Page136\n",
      "Page137\n",
      "Page138\n",
      "Page139\n",
      "Page140\n",
      "Page141\n",
      "Page142\n",
      "Page143\n",
      "Page144\n",
      "Page145\n",
      "Page146\n",
      "Page147\n",
      "Page148\n",
      "Page149\n",
      "Page150\n",
      "Page151\n",
      "Page152\n",
      "Page153\n",
      "Page154\n",
      "Page155\n",
      "Page156\n",
      "Page157\n",
      "Page158\n"
     ]
    }
   ],
   "source": [
    "URL = 'https://covid19.go.id/p/berita?page='\n",
    "news_title = []\n",
    "for x in range(158):\n",
    "    response = requests.get(URL+str(x+1))\n",
    "    soup = BeautifulSoup(response.content, \"html.parser\")\n",
    "    titles = soup.findAll(\"a\", {\"class\": \"text-color-dark\"})\n",
    "    news_title = news_title + [title.string for title in titles]\n",
    "    print(\"Page\" + str(x+1))\n",
    "    time.sleep(2)"
   ]
  },
  {
   "cell_type": "code",
   "execution_count": 38,
   "id": "fresh-toilet",
   "metadata": {},
   "outputs": [
    {
     "data": {
      "text/plain": [
       "1892"
      ]
     },
     "execution_count": 38,
     "metadata": {},
     "output_type": "execute_result"
    }
   ],
   "source": [
    "len(news_title)"
   ]
  },
  {
   "cell_type": "code",
   "execution_count": 14,
   "id": "characteristic-solid",
   "metadata": {},
   "outputs": [],
   "source": [
    "with open('snapshot.json', 'w') as fp:\n",
    "    json.dump(news_title, fp)"
   ]
  },
  {
   "cell_type": "code",
   "execution_count": 15,
   "id": "regional-melbourne",
   "metadata": {},
   "outputs": [],
   "source": [
    "snapshot = json.load(open('snapshot.json'))"
   ]
  },
  {
   "cell_type": "markdown",
   "id": "british-browse",
   "metadata": {},
   "source": [
    "## Retrieving from the 2nd sources\n",
    "More hoax data from https://covid19.go.id/p/hoax-buster"
   ]
  },
  {
   "cell_type": "code",
   "execution_count": 37,
   "id": "honey-linux",
   "metadata": {
    "collapsed": true,
    "jupyter": {
     "outputs_hidden": true
    }
   },
   "outputs": [
    {
     "name": "stdout",
     "output_type": "stream",
     "text": [
      "Page1\n",
      "Page2\n",
      "Page3\n",
      "Page4\n",
      "Page5\n",
      "Page6\n",
      "Page7\n",
      "Page8\n",
      "Page9\n",
      "Page10\n",
      "Page11\n",
      "Page12\n",
      "Page13\n",
      "Page14\n",
      "Page15\n",
      "Page16\n",
      "Page17\n",
      "Page18\n",
      "Page19\n",
      "Page20\n",
      "Page21\n",
      "Page22\n",
      "Page23\n",
      "Page24\n",
      "Page25\n",
      "Page26\n",
      "Page27\n",
      "Page28\n",
      "Page29\n",
      "Page30\n",
      "Page31\n",
      "Page32\n",
      "Page33\n",
      "Page34\n",
      "Page35\n",
      "Page36\n",
      "Page37\n",
      "Page38\n",
      "Page39\n",
      "Page40\n",
      "Page41\n",
      "Page42\n",
      "Page43\n",
      "Page44\n",
      "Page45\n",
      "Page46\n",
      "Page47\n",
      "Page48\n",
      "Page49\n",
      "Page50\n",
      "Page51\n",
      "Page52\n",
      "Page53\n",
      "Page54\n",
      "Page55\n",
      "Page56\n",
      "Page57\n",
      "Page58\n"
     ]
    }
   ],
   "source": [
    "URL2 = 'https://covid19.go.id/p/hoax-buster?page='\n",
    "hoax_title = []\n",
    "for x in range(58):\n",
    "    response = requests.get(URL2+str(x+1))\n",
    "    soup = BeautifulSoup(response.content, \"html.parser\")\n",
    "    titles = soup.findAll(\"a\", {\"class\": \"text-color-dark\"})\n",
    "    hoax_title = hoax_title + [title.string for title in titles]\n",
    "    print(\"Page\" + str(x+1))\n",
    "    time.sleep(2)"
   ]
  },
  {
   "cell_type": "code",
   "execution_count": 39,
   "id": "instrumental-hindu",
   "metadata": {},
   "outputs": [
    {
     "data": {
      "text/plain": [
       "685"
      ]
     },
     "execution_count": 39,
     "metadata": {},
     "output_type": "execute_result"
    }
   ],
   "source": [
    "len(hoax_title)"
   ]
  },
  {
   "cell_type": "code",
   "execution_count": 76,
   "id": "understanding-writer",
   "metadata": {},
   "outputs": [],
   "source": [
    "# Snapshot\n",
    "with open('snapshot2.json', 'w') as fp:\n",
    "    json.dump(hoax_title, fp)"
   ]
  },
  {
   "cell_type": "code",
   "execution_count": 82,
   "id": "ecological-bosnia",
   "metadata": {},
   "outputs": [],
   "source": [
    "snapshot2 = json.load(open('snapshot2.json'))"
   ]
  },
  {
   "cell_type": "markdown",
   "id": "liable-jason",
   "metadata": {},
   "source": [
    "## Integrating, labelling and exporting to CSV"
   ]
  },
  {
   "cell_type": "code",
   "execution_count": 99,
   "id": "dying-motor",
   "metadata": {},
   "outputs": [
    {
     "name": "stdout",
     "output_type": "stream",
     "text": [
      "Snapshot 1 : 1892\n",
      "Snapshot 2 : 685\n",
      "Expected length: 2577\n"
     ]
    }
   ],
   "source": [
    "print(\"Snapshot 1 :\",len(snapshot))\n",
    "print(\"Snapshot 2 :\",len(snapshot2))\n",
    "print(\"Expected length:\", len(snapshot) + len(snapshot2))"
   ]
  },
  {
   "cell_type": "code",
   "execution_count": 70,
   "id": "based-ribbon",
   "metadata": {},
   "outputs": [],
   "source": [
    "# Labelling snapshot 1\n",
    "labeled_list1 = []\n",
    "snapshot_copy = snapshot.copy()\n",
    "for i, judul in enumerate(snapshot_copy):\n",
    "    if judul.find('[SALAH]') == 0:\n",
    "        labeled_list1.append([judul.replace('[SALAH]', '').replace('“', '').replace('”', '').strip(), 1])\n",
    "    else:\n",
    "        labeled_list1.append([judul, 0])"
   ]
  },
  {
   "cell_type": "code",
   "execution_count": 72,
   "id": "unique-halloween",
   "metadata": {},
   "outputs": [
    {
     "data": {
      "text/plain": [
       "[['Kelompok Masyarakat yang Tidak Bisa Diberikan Vaksin COVID-19 dari Sinovac',\n",
       "  0],\n",
       " ['Ketua Fraksi PDIP saja ga mau di vaksin', 1],\n",
       " ['Jokowi Kejang dan Meninggal Dunia setelah Disuntik Vaksin', 1],\n",
       " ['Pasien Sembuh Semakin Bertambah Menjadi 718.696 Orang', 0]]"
      ]
     },
     "execution_count": 72,
     "metadata": {},
     "output_type": "execute_result"
    }
   ],
   "source": [
    "labeled_list1[0:4]"
   ]
  },
  {
   "cell_type": "code",
   "execution_count": 83,
   "id": "bibliographic-nursing",
   "metadata": {},
   "outputs": [],
   "source": [
    "# Labelling snapshot 2, keep everything labeled to 1 and only remove [SALAH] tag\n",
    "labeled_list2 = []\n",
    "snapshot2_copy = snapshot2.copy()\n",
    "for judul in snapshot2_copy:\n",
    "    if judul.find('[SALAH]') == 0:\n",
    "        labeled_list2.append([judul.replace('[SALAH]', '').replace('“', '').replace('”', '').strip(), 1])\n",
    "    else:\n",
    "        labeled_list2.append([judul, 1])"
   ]
  },
  {
   "cell_type": "code",
   "execution_count": 89,
   "id": "metric-cabin",
   "metadata": {},
   "outputs": [
    {
     "data": {
      "text/plain": [
       "[['Ketua Fraksi PDIP saja ga mau di vaksin', 1],\n",
       " ['Jakarta Zona Hitam', 1],\n",
       " ['Pesan Berantai Tautan Subsidi Kuota Belajar Gelombang Pertama 2021', 1],\n",
       " ['Terapi Uap Panas dan Minyak Kayu Putih Dapat Membunuh Virus Corona', 1]]"
      ]
     },
     "execution_count": 89,
     "metadata": {},
     "output_type": "execute_result"
    }
   ],
   "source": [
    "labeled_list2[0:4]"
   ]
  },
  {
   "cell_type": "code",
   "execution_count": 90,
   "id": "welcome-rescue",
   "metadata": {},
   "outputs": [],
   "source": [
    "df = DataFrame(columns = ['text', 'hoax'])"
   ]
  },
  {
   "cell_type": "code",
   "execution_count": 94,
   "id": "miniature-tolerance",
   "metadata": {},
   "outputs": [],
   "source": [
    "df = df.append(DataFrame(labeled_list1, columns=['text','hoax']),ignore_index=True)\n",
    "df = df.append(DataFrame(labeled_list2, columns=['text','hoax']),ignore_index=True)"
   ]
  },
  {
   "cell_type": "code",
   "execution_count": 95,
   "id": "selected-blogger",
   "metadata": {},
   "outputs": [
    {
     "data": {
      "text/html": [
       "<div>\n",
       "<style scoped>\n",
       "    .dataframe tbody tr th:only-of-type {\n",
       "        vertical-align: middle;\n",
       "    }\n",
       "\n",
       "    .dataframe tbody tr th {\n",
       "        vertical-align: top;\n",
       "    }\n",
       "\n",
       "    .dataframe thead th {\n",
       "        text-align: right;\n",
       "    }\n",
       "</style>\n",
       "<table border=\"1\" class=\"dataframe\">\n",
       "  <thead>\n",
       "    <tr style=\"text-align: right;\">\n",
       "      <th></th>\n",
       "      <th>text</th>\n",
       "      <th>hoax</th>\n",
       "    </tr>\n",
       "  </thead>\n",
       "  <tbody>\n",
       "    <tr>\n",
       "      <th>0</th>\n",
       "      <td>Kelompok Masyarakat yang Tidak Bisa Diberikan ...</td>\n",
       "      <td>0</td>\n",
       "    </tr>\n",
       "    <tr>\n",
       "      <th>1</th>\n",
       "      <td>Ketua Fraksi PDIP saja ga mau di vaksin</td>\n",
       "      <td>1</td>\n",
       "    </tr>\n",
       "    <tr>\n",
       "      <th>2</th>\n",
       "      <td>Jokowi Kejang dan Meninggal Dunia setelah Disu...</td>\n",
       "      <td>1</td>\n",
       "    </tr>\n",
       "    <tr>\n",
       "      <th>3</th>\n",
       "      <td>Pasien Sembuh Semakin Bertambah Menjadi 718.69...</td>\n",
       "      <td>0</td>\n",
       "    </tr>\n",
       "    <tr>\n",
       "      <th>4</th>\n",
       "      <td>Memperketat Pintu Masuk Luar Negeri Mengantisi...</td>\n",
       "      <td>0</td>\n",
       "    </tr>\n",
       "    <tr>\n",
       "      <th>...</th>\n",
       "      <td>...</td>\n",
       "      <td>...</td>\n",
       "    </tr>\n",
       "    <tr>\n",
       "      <th>2572</th>\n",
       "      <td>Ditemukannya Virus Corona atau COVID-19 di Tis...</td>\n",
       "      <td>1</td>\n",
       "    </tr>\n",
       "    <tr>\n",
       "      <th>2573</th>\n",
       "      <td>PASAR TANAH ABANG DI TUTUP SEMENTARA</td>\n",
       "      <td>1</td>\n",
       "    </tr>\n",
       "    <tr>\n",
       "      <th>2574</th>\n",
       "      <td>Corona Mewabah, Gubernur Ganjar Liburkan Drive...</td>\n",
       "      <td>1</td>\n",
       "    </tr>\n",
       "    <tr>\n",
       "      <th>2575</th>\n",
       "      <td>[BERITA] Update Status Terkait Penutupan Beber...</td>\n",
       "      <td>1</td>\n",
       "    </tr>\n",
       "    <tr>\n",
       "      <th>2576</th>\n",
       "      <td>Kapal Rute Banda Aceh Sabang Distop karena Vir...</td>\n",
       "      <td>1</td>\n",
       "    </tr>\n",
       "  </tbody>\n",
       "</table>\n",
       "<p>2577 rows × 2 columns</p>\n",
       "</div>"
      ],
      "text/plain": [
       "                                                   text hoax\n",
       "0     Kelompok Masyarakat yang Tidak Bisa Diberikan ...    0\n",
       "1               Ketua Fraksi PDIP saja ga mau di vaksin    1\n",
       "2     Jokowi Kejang dan Meninggal Dunia setelah Disu...    1\n",
       "3     Pasien Sembuh Semakin Bertambah Menjadi 718.69...    0\n",
       "4     Memperketat Pintu Masuk Luar Negeri Mengantisi...    0\n",
       "...                                                 ...  ...\n",
       "2572  Ditemukannya Virus Corona atau COVID-19 di Tis...    1\n",
       "2573               PASAR TANAH ABANG DI TUTUP SEMENTARA    1\n",
       "2574  Corona Mewabah, Gubernur Ganjar Liburkan Drive...    1\n",
       "2575  [BERITA] Update Status Terkait Penutupan Beber...    1\n",
       "2576  Kapal Rute Banda Aceh Sabang Distop karena Vir...    1\n",
       "\n",
       "[2577 rows x 2 columns]"
      ]
     },
     "execution_count": 95,
     "metadata": {},
     "output_type": "execute_result"
    }
   ],
   "source": [
    "df"
   ]
  },
  {
   "cell_type": "code",
   "execution_count": 100,
   "id": "radical-beverage",
   "metadata": {},
   "outputs": [],
   "source": [
    "df = df.drop_duplicates().reset_index(drop=True)"
   ]
  },
  {
   "cell_type": "code",
   "execution_count": 101,
   "id": "express-suffering",
   "metadata": {},
   "outputs": [
    {
     "data": {
      "text/html": [
       "<div>\n",
       "<style scoped>\n",
       "    .dataframe tbody tr th:only-of-type {\n",
       "        vertical-align: middle;\n",
       "    }\n",
       "\n",
       "    .dataframe tbody tr th {\n",
       "        vertical-align: top;\n",
       "    }\n",
       "\n",
       "    .dataframe thead th {\n",
       "        text-align: right;\n",
       "    }\n",
       "</style>\n",
       "<table border=\"1\" class=\"dataframe\">\n",
       "  <thead>\n",
       "    <tr style=\"text-align: right;\">\n",
       "      <th></th>\n",
       "      <th>text</th>\n",
       "      <th>hoax</th>\n",
       "    </tr>\n",
       "  </thead>\n",
       "  <tbody>\n",
       "    <tr>\n",
       "      <th>0</th>\n",
       "      <td>Kelompok Masyarakat yang Tidak Bisa Diberikan ...</td>\n",
       "      <td>0</td>\n",
       "    </tr>\n",
       "    <tr>\n",
       "      <th>1</th>\n",
       "      <td>Ketua Fraksi PDIP saja ga mau di vaksin</td>\n",
       "      <td>1</td>\n",
       "    </tr>\n",
       "    <tr>\n",
       "      <th>2</th>\n",
       "      <td>Jokowi Kejang dan Meninggal Dunia setelah Disu...</td>\n",
       "      <td>1</td>\n",
       "    </tr>\n",
       "    <tr>\n",
       "      <th>3</th>\n",
       "      <td>Pasien Sembuh Semakin Bertambah Menjadi 718.69...</td>\n",
       "      <td>0</td>\n",
       "    </tr>\n",
       "    <tr>\n",
       "      <th>4</th>\n",
       "      <td>Memperketat Pintu Masuk Luar Negeri Mengantisi...</td>\n",
       "      <td>0</td>\n",
       "    </tr>\n",
       "    <tr>\n",
       "      <th>...</th>\n",
       "      <td>...</td>\n",
       "      <td>...</td>\n",
       "    </tr>\n",
       "    <tr>\n",
       "      <th>2491</th>\n",
       "      <td>Ditemukannya Virus Corona atau COVID-19 di Tis...</td>\n",
       "      <td>1</td>\n",
       "    </tr>\n",
       "    <tr>\n",
       "      <th>2492</th>\n",
       "      <td>PASAR TANAH ABANG DI TUTUP SEMENTARA</td>\n",
       "      <td>1</td>\n",
       "    </tr>\n",
       "    <tr>\n",
       "      <th>2493</th>\n",
       "      <td>Corona Mewabah, Gubernur Ganjar Liburkan Drive...</td>\n",
       "      <td>1</td>\n",
       "    </tr>\n",
       "    <tr>\n",
       "      <th>2494</th>\n",
       "      <td>[BERITA] Update Status Terkait Penutupan Beber...</td>\n",
       "      <td>1</td>\n",
       "    </tr>\n",
       "    <tr>\n",
       "      <th>2495</th>\n",
       "      <td>Kapal Rute Banda Aceh Sabang Distop karena Vir...</td>\n",
       "      <td>1</td>\n",
       "    </tr>\n",
       "  </tbody>\n",
       "</table>\n",
       "<p>2496 rows × 2 columns</p>\n",
       "</div>"
      ],
      "text/plain": [
       "                                                   text hoax\n",
       "0     Kelompok Masyarakat yang Tidak Bisa Diberikan ...    0\n",
       "1               Ketua Fraksi PDIP saja ga mau di vaksin    1\n",
       "2     Jokowi Kejang dan Meninggal Dunia setelah Disu...    1\n",
       "3     Pasien Sembuh Semakin Bertambah Menjadi 718.69...    0\n",
       "4     Memperketat Pintu Masuk Luar Negeri Mengantisi...    0\n",
       "...                                                 ...  ...\n",
       "2491  Ditemukannya Virus Corona atau COVID-19 di Tis...    1\n",
       "2492               PASAR TANAH ABANG DI TUTUP SEMENTARA    1\n",
       "2493  Corona Mewabah, Gubernur Ganjar Liburkan Drive...    1\n",
       "2494  [BERITA] Update Status Terkait Penutupan Beber...    1\n",
       "2495  Kapal Rute Banda Aceh Sabang Distop karena Vir...    1\n",
       "\n",
       "[2496 rows x 2 columns]"
      ]
     },
     "execution_count": 101,
     "metadata": {},
     "output_type": "execute_result"
    }
   ],
   "source": [
    "df"
   ]
  },
  {
   "cell_type": "code",
   "execution_count": 102,
   "id": "thermal-cartridge",
   "metadata": {},
   "outputs": [],
   "source": [
    "df = df.sample(frac=1, random_state=42).reset_index(drop=True)"
   ]
  },
  {
   "cell_type": "code",
   "execution_count": 103,
   "id": "foreign-termination",
   "metadata": {},
   "outputs": [
    {
     "data": {
      "text/html": [
       "<div>\n",
       "<style scoped>\n",
       "    .dataframe tbody tr th:only-of-type {\n",
       "        vertical-align: middle;\n",
       "    }\n",
       "\n",
       "    .dataframe tbody tr th {\n",
       "        vertical-align: top;\n",
       "    }\n",
       "\n",
       "    .dataframe thead th {\n",
       "        text-align: right;\n",
       "    }\n",
       "</style>\n",
       "<table border=\"1\" class=\"dataframe\">\n",
       "  <thead>\n",
       "    <tr style=\"text-align: right;\">\n",
       "      <th></th>\n",
       "      <th>text</th>\n",
       "      <th>hoax</th>\n",
       "    </tr>\n",
       "  </thead>\n",
       "  <tbody>\n",
       "    <tr>\n",
       "      <th>0</th>\n",
       "      <td>Senin 27 April 2020 Sumatera Barat Lockdown</td>\n",
       "      <td>1</td>\n",
       "    </tr>\n",
       "    <tr>\n",
       "      <th>1</th>\n",
       "      <td>Anjuran Berbelanja Ketika Menjalankan “Social ...</td>\n",
       "      <td>0</td>\n",
       "    </tr>\n",
       "    <tr>\n",
       "      <th>2</th>\n",
       "      <td>Kesembuhan Harian Lampaui Penambahan Kasus Baru</td>\n",
       "      <td>0</td>\n",
       "    </tr>\n",
       "    <tr>\n",
       "      <th>3</th>\n",
       "      <td>[Top 5] Topik Teratas Periksa Fakta MAFINDO Pe...</td>\n",
       "      <td>1</td>\n",
       "    </tr>\n",
       "    <tr>\n",
       "      <th>4</th>\n",
       "      <td>Beradaptasi Kebiasaan Baru yang Aman COVID-19 ...</td>\n",
       "      <td>0</td>\n",
       "    </tr>\n",
       "    <tr>\n",
       "      <th>...</th>\n",
       "      <td>...</td>\n",
       "      <td>...</td>\n",
       "    </tr>\n",
       "    <tr>\n",
       "      <th>2491</th>\n",
       "      <td>Kasus Positif COVID-19 Menurun, Jumlah Pasien ...</td>\n",
       "      <td>0</td>\n",
       "    </tr>\n",
       "    <tr>\n",
       "      <th>2492</th>\n",
       "      <td>Yuri: Mengenakan Face Shield Tanpa Masker, Per...</td>\n",
       "      <td>0</td>\n",
       "    </tr>\n",
       "    <tr>\n",
       "      <th>2493</th>\n",
       "      <td>Waspada Tuberculosis di Tengah Pandemi, Ini Pe...</td>\n",
       "      <td>0</td>\n",
       "    </tr>\n",
       "    <tr>\n",
       "      <th>2494</th>\n",
       "      <td>Ahli Epidemiologi: Angka Kasus COVID-19 Melonj...</td>\n",
       "      <td>0</td>\n",
       "    </tr>\n",
       "    <tr>\n",
       "      <th>2495</th>\n",
       "      <td>Infografis COVID-19 (28 Agustus 2020)</td>\n",
       "      <td>0</td>\n",
       "    </tr>\n",
       "  </tbody>\n",
       "</table>\n",
       "<p>2496 rows × 2 columns</p>\n",
       "</div>"
      ],
      "text/plain": [
       "                                                   text hoax\n",
       "0           Senin 27 April 2020 Sumatera Barat Lockdown    1\n",
       "1     Anjuran Berbelanja Ketika Menjalankan “Social ...    0\n",
       "2       Kesembuhan Harian Lampaui Penambahan Kasus Baru    0\n",
       "3     [Top 5] Topik Teratas Periksa Fakta MAFINDO Pe...    1\n",
       "4     Beradaptasi Kebiasaan Baru yang Aman COVID-19 ...    0\n",
       "...                                                 ...  ...\n",
       "2491  Kasus Positif COVID-19 Menurun, Jumlah Pasien ...    0\n",
       "2492  Yuri: Mengenakan Face Shield Tanpa Masker, Per...    0\n",
       "2493  Waspada Tuberculosis di Tengah Pandemi, Ini Pe...    0\n",
       "2494  Ahli Epidemiologi: Angka Kasus COVID-19 Melonj...    0\n",
       "2495              Infografis COVID-19 (28 Agustus 2020)    0\n",
       "\n",
       "[2496 rows x 2 columns]"
      ]
     },
     "execution_count": 103,
     "metadata": {},
     "output_type": "execute_result"
    }
   ],
   "source": [
    "df"
   ]
  },
  {
   "cell_type": "code",
   "execution_count": 105,
   "id": "parental-bishop",
   "metadata": {},
   "outputs": [],
   "source": [
    "df.to_csv('data-v2.csv')"
   ]
  }
 ],
 "metadata": {
  "kernelspec": {
   "display_name": "Python 3",
   "language": "python",
   "name": "python3"
  },
  "language_info": {
   "codemirror_mode": {
    "name": "ipython",
    "version": 3
   },
   "file_extension": ".py",
   "mimetype": "text/x-python",
   "name": "python",
   "nbconvert_exporter": "python",
   "pygments_lexer": "ipython3",
   "version": "3.8.5"
  }
 },
 "nbformat": 4,
 "nbformat_minor": 5
}
